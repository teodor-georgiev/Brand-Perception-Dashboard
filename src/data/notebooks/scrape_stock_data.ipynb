{
 "cells": [
  {
   "cell_type": "code",
   "execution_count": null,
   "metadata": {},
   "outputs": [],
   "source": [
    "import pandas as pd\n",
    "import time\n",
    "import datetime"
   ]
  },
  {
   "cell_type": "code",
   "execution_count": null,
   "metadata": {},
   "outputs": [],
   "source": [
    "# List of Tickers\n",
    "brands = []\n",
    "\n",
    "# Create a dictionary to map the brand abbreviations to the full brand names and create new column\n",
    "# Example \n",
    "# brand_names = {\"AAPL\":\"Apple\",\"ABNB\":\"Airbnb\",\"HNNMY\": \"HM\", \"KO\":\"Coca-Cola\", \"NKE\":\"Nike\", \"SBUX\":\"Starbucks\",\"PEP\": \"Pepsi\"}\n",
    "brand_names = {}\n"
   ]
  },
  {
   "cell_type": "code",
   "execution_count": null,
   "metadata": {},
   "outputs": [],
   "source": [
    "# Scrape stock data from yahoo finance\n",
    "df_day = pd.DataFrame()\n",
    "df_week = pd.DataFrame()\n",
    "\n",
    "\n",
    "for brand in brands:\n",
    "    # Set the time period using format (yyyy,m,d,h,m) hour and minutes can be left the same\n",
    "    period1 = int(time.mktime(datetime.datetime(2019, 7, 1, 00, 00).timetuple()))\n",
    "    period2 = int(time.mktime(datetime.datetime(2021, 3, 28, 23, 59).timetuple()))\n",
    "    day = \"1d\"\n",
    "    week = \"1wk\"\n",
    "    \n",
    "    query_string_day = f'https://query1.finance.yahoo.com/v7/finance/download/{brand}?period1={period1}&period2={period2}&interval={day}&events=history&includeAdjustedClose=true'\n",
    "    query_string_week = f'https://query1.finance.yahoo.com/v7/finance/download/{brand}?period1={period1}&period2={period2}&interval={week}&events=history&includeAdjustedClose=true'\n",
    "    df_day_brand = pd.read_csv(query_string_day).round(2)\n",
    "    df_week_brand = pd.read_csv(query_string_week).round(2)\n",
    "    \n",
    "    df_day_brand[\"Brand Abbreviation\"] = brand\n",
    "    df_week_brand[\"Brand Abbreviation\"] = brand\n",
    "    df_day = pd.concat([df_day, df_day_brand], axis=0)\n",
    "    df_week = pd.concat([df_week, df_week_brand], axis=0)"
   ]
  },
  {
   "cell_type": "code",
   "execution_count": null,
   "metadata": {},
   "outputs": [],
   "source": [
    "df_day[\"pct_change\"] = df_day.groupby([\"Brand Abbreviation\"])[\"Close\"].pct_change(1)*100\n",
    "df_week[\"pct_change\"] = df_week.groupby([\"Brand Abbreviation\"])[\"Close\"].pct_change(1)*100\n",
    "df_day[\"Brand Name\"] = df_day[\"Brand Abbreviation\"].map(brand_names)\n",
    "df_week[\"Brand Name\"] = df_week[\"Brand Abbreviation\"].map(brand_names)"
   ]
  },
  {
   "cell_type": "code",
   "execution_count": null,
   "metadata": {},
   "outputs": [],
   "source": [
    "# Save the dataframes to csv in a place of your choice\n",
    "df_day.to_csv(\"\", index=False)\n",
    "df_week.to_csv(\"\", index=False)"
   ]
  }
 ],
 "metadata": {
  "kernelspec": {
   "display_name": "base",
   "language": "python",
   "name": "python3"
  },
  "language_info": {
   "name": "python",
   "version": "3.8.5"
  },
  "orig_nbformat": 4
 },
 "nbformat": 4,
 "nbformat_minor": 2
}
